{
 "cells": [
  {
   "cell_type": "code",
   "execution_count": 1,
   "id": "fc15b659",
   "metadata": {},
   "outputs": [],
   "source": [
    "import numpy as np\n",
    "import pandas as pd\n",
    "from sklearn.datasets import load_boston\n",
    "from sklearn.linear_model import LinearRegression\n",
    "from sklearn.metrics import r2_score"
   ]
  },
  {
   "cell_type": "markdown",
   "id": "e07fdeb9",
   "metadata": {},
   "source": [
    "# QUIZ - Regression models"
   ]
  },
  {
   "cell_type": "markdown",
   "id": "d07635ae",
   "metadata": {},
   "source": [
    "### QUIZ 1 - Linear Regression Functions\n",
    "When building the linear regression model, we came across several new functions. One of these functions is shown below. What is the name of this function?\n",
    "\n",
    "\n",
    "* gradient\n",
    "* sum function\n",
    "* distance\n",
    "* residual\n",
    "* gradient descent\n",
    "* cost function\n",
    "* least squares function\n",
    "* optimization function\n",
    "* derivative\n",
    "* modelling function\n",
    "* partial derivative of the error function with respect to a\n",
    "\n",
    "\n",
    "**Answer**: Cost function"
   ]
  },
  {
   "cell_type": "markdown",
   "id": "5af82325",
   "metadata": {},
   "source": [
    "### QUIZ 2 - Income, Part 1\n",
    "We have collected data from an ice cream shop. We modelled the income as a function of the outside temperature (shown below). Which of the following is / are true, based on this research only?\n",
    "\n",
    "\n",
    "income[$] = 20.67*T[°C] - 30.12\n",
    "\n",
    "\n",
    "* Decreasing temperature increases ice cream sales\n",
    "* Increased temperature is correlated with increased ice cream sales\n",
    "* Temperature has no effect on ice cream sales\n",
    "* When the temperature is around 20 degrees, the income is greater than $400\n",
    "* Increasing temperature increases ice cream sales\n",
    "* Decreased temperature is correlated with increased ice cream sales\n",
    "* Increasing temperature decreases ice cream sales\n",
    "* Decreased temperature is correlated with decreased ice cream sales"
   ]
  },
  {
   "cell_type": "markdown",
   "id": "89d9d426",
   "metadata": {},
   "source": [
    "**Answer**:\n",
    "1. Increasing temperature increases ice cream sales.\n",
    "2. Increased temperature is correlated with increased ice cream sales.\n",
    "3. Decreased temperature is correlated with decreased ice cream sales."
   ]
  },
  {
   "cell_type": "markdown",
   "id": "0521da6b",
   "metadata": {},
   "source": [
    "### QUIZ 3 - Income, Part 2\n",
    "In some cases we need to augment (extend) the model to return valid results. What income (in dollars) will our current model predict when the temperature is 1.2 degrees? Round your answer to 2 decimal places."
   ]
  },
  {
   "cell_type": "code",
   "execution_count": 2,
   "id": "ce4b97f1",
   "metadata": {},
   "outputs": [
    {
     "name": "stdout",
     "output_type": "stream",
     "text": [
      "-5.31\n"
     ]
    }
   ],
   "source": [
    "temperature = 1.2\n",
    "income = 20.67449411 * temperature - 30.12047857\n",
    "\n",
    "print(round(income, 2))"
   ]
  },
  {
   "cell_type": "markdown",
   "id": "c62048c6",
   "metadata": {},
   "source": [
    "### QUIZ 3 - Income, Part 3\n",
    "The specification tells that \"income\" is defined as being non-negative. The model does not account for operational costs or anything like that. We need to return a valid value based on our specification. What income (in dollars) should an augmented model predict for T = 1.2 deg C? Round your answer to 2 decimal places."
   ]
  },
  {
   "cell_type": "code",
   "execution_count": 3,
   "id": "c010177a",
   "metadata": {},
   "outputs": [
    {
     "name": "stdout",
     "output_type": "stream",
     "text": [
      "Predicted income: 0.00$\n"
     ]
    }
   ],
   "source": [
    "temperature = 1.2\n",
    "income = 20.67449411 * temperature - 30.12047857\n",
    "\n",
    "# Ensure the predicted income is non-negative\n",
    "predicted_income = max(income, 0)\n",
    "\n",
    "rounded_income = round(predicted_income, 2)\n",
    "\n",
    "print(\"Predicted income: {:.2f}$\".format(rounded_income))"
   ]
  },
  {
   "cell_type": "markdown",
   "id": "fd44c9f9",
   "metadata": {},
   "source": [
    "### QUIZ 4 - Local Minima\n",
    "When performing gradient descent on a linear regression, the choice of starting point is really important. If we choose a starting point which is far away from the global minimum of the error function, we can get stuck in a local minimum.\n",
    "\n",
    "a) True\n",
    "\n",
    "b) False\n",
    "\n",
    "**Answer:** False.\n",
    "\n",
    "In linear regression, the error function (cost function) is convex, which means it has only one global minimum, and no local minima or other critical points. Convexity ensures that gradient descent will converge to the global minimum, regardless of the choice of the starting point.\n",
    "\n",
    "Therefore, in the case of linear regression, the choice of the starting point for gradient descent is not critical. The algorithm will always find the global minimum and reach the optimal parameters of the model that minimize the error function."
   ]
  },
  {
   "cell_type": "markdown",
   "id": "fc3f9bce",
   "metadata": {},
   "source": [
    "### QUIZ 5 - Multiple Regression, Part 1\n",
    "As we already saw, we can do linear regression on many variables. The Boston housing dataset is really famous and is often used for this purpose. You can download it online or - better - load it using scikit-learn (look up how). Note: This dataset is cleaned and prepared for modelling. If you want to download the original one and prepare it yourself, you're in for quite a challenge :). Now, Perform linear regression on all features. What is the coefficient related to the number of rooms? Round your answer to two decimal places.\n"
   ]
  },
  {
   "cell_type": "code",
   "execution_count": 4,
   "id": "54881239",
   "metadata": {
    "collapsed": true
   },
   "outputs": [
    {
     "name": "stderr",
     "output_type": "stream",
     "text": [
      "C:\\ProgramData\\Anaconda3\\lib\\site-packages\\sklearn\\utils\\deprecation.py:87: FutureWarning: Function load_boston is deprecated; `load_boston` is deprecated in 1.0 and will be removed in 1.2.\n",
      "\n",
      "    The Boston housing prices dataset has an ethical problem. You can refer to\n",
      "    the documentation of this function for further details.\n",
      "\n",
      "    The scikit-learn maintainers therefore strongly discourage the use of this\n",
      "    dataset unless the purpose of the code is to study and educate about\n",
      "    ethical issues in data science and machine learning.\n",
      "\n",
      "    In this special case, you can fetch the dataset from the original\n",
      "    source::\n",
      "\n",
      "        import pandas as pd\n",
      "        import numpy as np\n",
      "\n",
      "\n",
      "        data_url = \"http://lib.stat.cmu.edu/datasets/boston\"\n",
      "        raw_df = pd.read_csv(data_url, sep=\"\\s+\", skiprows=22, header=None)\n",
      "        data = np.hstack([raw_df.values[::2, :], raw_df.values[1::2, :2]])\n",
      "        target = raw_df.values[1::2, 2]\n",
      "\n",
      "    Alternative datasets include the California housing dataset (i.e.\n",
      "    :func:`~sklearn.datasets.fetch_california_housing`) and the Ames housing\n",
      "    dataset. You can load the datasets as follows::\n",
      "\n",
      "        from sklearn.datasets import fetch_california_housing\n",
      "        housing = fetch_california_housing()\n",
      "\n",
      "    for the California housing dataset and::\n",
      "\n",
      "        from sklearn.datasets import fetch_openml\n",
      "        housing = fetch_openml(name=\"house_prices\", as_frame=True)\n",
      "\n",
      "    for the Ames housing dataset.\n",
      "    \n",
      "  warnings.warn(msg, category=FutureWarning)\n"
     ]
    }
   ],
   "source": [
    "boston_data = load_boston()"
   ]
  },
  {
   "cell_type": "code",
   "execution_count": 5,
   "id": "5e0adb80",
   "metadata": {},
   "outputs": [
    {
     "name": "stdout",
     "output_type": "stream",
     "text": [
      "dict_keys(['data', 'target', 'feature_names', 'DESCR', 'filename', 'data_module'])\n"
     ]
    }
   ],
   "source": [
    "print(boston_data.keys())"
   ]
  },
  {
   "cell_type": "code",
   "execution_count": 6,
   "id": "1c8f05a6",
   "metadata": {
    "scrolled": true
   },
   "outputs": [
    {
     "name": "stdout",
     "output_type": "stream",
     "text": [
      "Coefficient related to the number of rooms:3.81\n"
     ]
    }
   ],
   "source": [
    "# Extract the features (X) and target (y)\n",
    "X = boston_data.data\n",
    "y = boston_data.target\n",
    "\n",
    "# Create a Linear Regression model\n",
    "model = LinearRegression()\n",
    "\n",
    "# Fit the model to the data\n",
    "model.fit(X, y)\n",
    "\n",
    "# Find the coefficient related to the number of rooms\n",
    "coefficient_rooms = round(model.coef_[boston_data.feature_names.tolist().index('RM')], 2)\n",
    "\n",
    "print(f\"Coefficient related to the number of rooms:{coefficient_rooms}\")"
   ]
  },
  {
   "cell_type": "markdown",
   "id": "d4a09dbc",
   "metadata": {},
   "source": [
    "### QUIZ 6 - Multiple Regression, Part 2\n",
    "What is the price of a hypothetical house with all variables set to zero? Round your answer to two decimal places."
   ]
  },
  {
   "cell_type": "code",
   "execution_count": 7,
   "id": "e604f511",
   "metadata": {},
   "outputs": [
    {
     "name": "stdout",
     "output_type": "stream",
     "text": [
      "Price of the hypothetical house: 36.46\n"
     ]
    }
   ],
   "source": [
    "# Get the intercept (price when all features are set to zero)\n",
    "intercept = model.intercept_\n",
    "\n",
    "# Round the intercept to two decimal places\n",
    "price_hypothetical_house = round(intercept, 2)\n",
    "\n",
    "print(\"Price of the hypothetical house:\", price_hypothetical_house)"
   ]
  },
  {
   "cell_type": "markdown",
   "id": "87a7f1e0",
   "metadata": {},
   "source": [
    "### QUIZ 7 - Multiple Regression, Part 3\n",
    "It's good to have a model of the data but it means nothing if we have no way of testing it. A way to test regression algorithms involves the so-called \"coefficient of determination\" (R^2). Research how to compute it and apply it to the regression model you just created. What is the coefficient of determination for this model? Round your answer to two decimal places. (Note: Compute the coefficient of determination using all the data. Technically, this is not correct but at least gives a good idea of how this model performs. If you're more interested, look up \"training and testing set\".)"
   ]
  },
  {
   "cell_type": "code",
   "execution_count": 8,
   "id": "c73f6c20",
   "metadata": {},
   "outputs": [
    {
     "name": "stdout",
     "output_type": "stream",
     "text": [
      "Coefficient of determination (R^2): 0.74\n"
     ]
    }
   ],
   "source": [
    "# Predict the target variable using the fitted model\n",
    "y_pred = model.predict(X)\n",
    "\n",
    "# Compute the R-squared value\n",
    "r_squared = r2_score(y, y_pred)\n",
    "\n",
    "# Round the R-squared value to two decimal places\n",
    "r_squared = round(r_squared, 2)\n",
    "\n",
    "print(\"Coefficient of determination (R^2):\", r_squared)"
   ]
  },
  {
   "cell_type": "markdown",
   "id": "55ca18e6",
   "metadata": {},
   "source": [
    "### Q  8\n",
    "In a CPU factory, a camera takes a picture of every single manufactured chip. After that, it sends the picture to an algorithm. The algorithm outputs whether the CPU is defective or not.\n",
    "\n",
    "What type of algorithm is that?\n",
    "\n",
    "**Answer:** Clasification"
   ]
  },
  {
   "cell_type": "markdown",
   "id": "ae1c4871",
   "metadata": {},
   "source": [
    "### Q9\n",
    "When building the linear regression model, we came across several new functions. What is the name of this function?\n",
    "\n",
    "**Answer:** \"cost function\". We sum all the error distances."
   ]
  }
 ],
 "metadata": {
  "kernelspec": {
   "display_name": "Python 3 (ipykernel)",
   "language": "python",
   "name": "python3"
  },
  "language_info": {
   "codemirror_mode": {
    "name": "ipython",
    "version": 3
   },
   "file_extension": ".py",
   "mimetype": "text/x-python",
   "name": "python",
   "nbconvert_exporter": "python",
   "pygments_lexer": "ipython3",
   "version": "3.9.13"
  }
 },
 "nbformat": 4,
 "nbformat_minor": 5
}
