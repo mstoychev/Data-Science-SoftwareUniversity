{
 "cells": [
  {
   "cell_type": "code",
   "execution_count": 1,
   "metadata": {},
   "outputs": [],
   "source": [
    "%matplotlib inline"
   ]
  },
  {
   "cell_type": "code",
   "execution_count": 2,
   "metadata": {},
   "outputs": [],
   "source": [
    "import numpy as np\n",
    "import pandas as pd\n",
    "import matplotlib.pyplot as plt\n",
    "\n",
    "from nose.tools import *\n",
    "\n",
    "from sklearn.linear_model import LogisticRegression"
   ]
  },
  {
   "cell_type": "markdown",
   "metadata": {},
   "source": [
    "# Regression Models Lab\n",
    "## Logistic regression: problem statement, derivation, usage"
   ]
  },
  {
   "cell_type": "markdown",
   "metadata": {},
   "source": [
    "### Classification: Problem Statement\n",
    "In many real cases, the output variable is categorical, i.e. our model should return one of some predefined categories.\n",
    "\n",
    "There are a lot of examples:\n",
    "* Classifying images\n",
    "* Classifying diseases (is a given patient healthy or ill?)\n",
    "* Any case of \"good / bad\" classification\n",
    "* Anomaly detection (e.g. credit card fraud detection)\n",
    "* Processes which involve creating catalogs, etc.\n",
    "\n",
    "We'll start with the simplest case:\n",
    "* Only one input variable $x$\n",
    "* Binary output variable $y$, i.e. either $y = 0$ or $y = 1$"
   ]
  },
  {
   "cell_type": "markdown",
   "metadata": {},
   "source": [
    "### Problem 1. Generate Some Sample Data (1 point)\n",
    "Let's imagine the simplest possible case. For example, we can think of $x$ as \"hours of studying time\" and $y$ as \"passed exam\" (0 of false, 1 if true).\n",
    "\n",
    "A class has 20 students. 12 of them studied between 1 and 3 hours and didn't pass the exam. The other 8 studied between 7 and 10 hours and passed the exam. Let's model this situation.\n",
    "\n",
    "First, to make our work easier, we can split it into two: for failed and passed students. Each student studied a random time, so let's choose this from a random uniform distribution (hint: `np.random.uniform(min, max, size)`).\n",
    "\n",
    "Create the following:\n",
    "```python\n",
    "failed_student_times = np.random.uniform(?, ?, ?)\n",
    "passed_student_times = np.random.uniform(?, ?, ?)\n",
    "all_times = np.concatenate([failed_student_times, passed_student_times])\n",
    "```\n",
    "\n",
    "Now, let's generate the outcome variable: we need 12 zeros, followed by 8 ones.\n",
    "```python\n",
    "exam_result = ...\n",
    "```\n",
    "\n",
    "**Note:** We don't need to use `numpy` arrays but they will give us many benefits later. One is that our code will be really easy and short, and another is that they are very fast (in terms of computation time)."
   ]
  },
  {
   "cell_type": "code",
   "execution_count": 3,
   "metadata": {
    "deletable": false,
    "nbgrader": {
     "checksum": "1926e09cac787971e16133423f28901f",
     "grade": false,
     "grade_id": "cell-9c723e1939fc3177",
     "locked": false,
     "schema_version": 1,
     "solution": true
    }
   },
   "outputs": [],
   "source": [
    "failed_student_times = np.random.uniform(1, 3, size=12)\n",
    "passed_student_times = np.random.uniform(7, 10, size=8)\n",
    "all_times = np.concatenate([failed_student_times, passed_student_times])\n",
    "\n",
    "exam_result = np.concatenate((np.zeros(12, dtype=int), np.ones(8, dtype=int)))"
   ]
  },
  {
   "cell_type": "code",
   "execution_count": null,
   "metadata": {
    "deletable": false,
    "editable": false,
    "nbgrader": {
     "checksum": "dc76662f57db4d8fbbe160bed101ec6f",
     "grade": true,
     "grade_id": "cell-77dbf808a1024c06",
     "locked": true,
     "points": 1,
     "schema_version": 1,
     "solution": false
    }
   },
   "outputs": [],
   "source": [
    "assert_is_instance(all_times, np.ndarray)\n",
    "assert_is_instance(exam_result, np.ndarray)"
   ]
  },
  {
   "cell_type": "markdown",
   "metadata": {},
   "source": [
    "If we now plot the student performance, we'll get something like this:"
   ]
  },
  {
   "cell_type": "code",
   "execution_count": 4,
   "metadata": {},
   "outputs": [
    {
     "data": {
      "image/png": "[encoded data removed]",
      "text/plain": [
       "<Figure size 640x480 with 1 Axes>"
      ]
     },
     "metadata": {},
     "output_type": "display_data"
    }
   ],
   "source": [
    "def plot_exam_results():\n",
    "    plt.scatter(all_times, exam_result)\n",
    "    plt.xlabel(\"Study time (hours)\")\n",
    "    plt.ylabel(\"Exam result\")\n",
    "    plt.yticks([0, 1])\n",
    "    plt.show()\n",
    "plot_exam_results()"
   ]
  },
  {
   "cell_type": "markdown",
   "metadata": {},
   "source": [
    "There's a very obvious distinction between the two classes. Once again, that's because we wanted so.\n",
    "\n",
    "How can we model the data? An example would be:\n",
    "```python\n",
    "if x < 5: # or x < 6, or something like that\n",
    "    return 0\n",
    "else:\n",
    "    return 1\n",
    "```\n",
    "\n",
    "This model works but let's look at a more realistic scenario."
   ]
  },
  {
   "cell_type": "markdown",
   "metadata": {},
   "source": [
    "### Problem 2. Generate More Realistic Sample Data (1 point)\n",
    "Now, this was a really simple view. A more involved model would include some error.\n",
    "\n",
    "First, let's ensure the test results are repeatable, even with random variables:"
   ]
  },
  {
   "cell_type": "code",
   "execution_count": 5,
   "metadata": {},
   "outputs": [],
   "source": [
    "np.random.seed(42)"
   ]
  },
  {
   "cell_type": "markdown",
   "metadata": {},
   "source": [
    "Let's reuse the previous example but this time:\n",
    "* Generate 20 study times between 1 and 10. Choose each number randomly from a uniform distribution (hint: this is the same as what you did before).\n",
    "* Generate the exam output variable like this: For each study time, if it's $\\le$ 3 hours, it should be 0, if it's $\\ge$ 7 hours, it should be 1. If the study time is between 3 and 7 hours, decide randomly whether it should be 0 or 1.\n",
    "* How do we decide randomly between 0 and 1? A simple way would be to generate a random number between 0 and 1: `np.random.random()`. If that number is >= 0.5, say the student passed the exam and vice versa."
   ]
  },
  {
   "cell_type": "code",
   "execution_count": null,
   "metadata": {
    "deletable": false,
    "nbgrader": {
     "checksum": "e676611d84d33585bdbc288476c4abcc",
     "grade": false,
     "grade_id": "cell-9740949f4386388b",
     "locked": false,
     "schema_version": 1,
     "solution": true
    }
   },
   "outputs": [],
   "source": [
    "all_times = None\n",
    "exam_result = None\n",
    "# YOUR CODE HERE\n",
    "raise NotImplementedError()"
   ]
  },
  {
   "cell_type": "code",
   "execution_count": null,
   "metadata": {
    "deletable": false,
    "editable": false,
    "nbgrader": {
     "checksum": "84402a75e10ed6dacd326da0ada9473c",
     "grade": true,
     "grade_id": "cell-56a1a993a1fe0b84",
     "locked": true,
     "points": 1,
     "schema_version": 1,
     "solution": false
    }
   },
   "outputs": [],
   "source": [
    "assert_is_instance(all_times, np.ndarray)\n",
    "assert_is_instance(exam_result, np.ndarray)"
   ]
  },
  {
   "cell_type": "code",
   "execution_count": null,
   "metadata": {},
   "outputs": [],
   "source": [
    "plot_exam_results()"
   ]
  },
  {
   "cell_type": "markdown",
   "metadata": {},
   "source": [
    "Now the results look more fuzzy. It's obvious that we can't model them with 100% accuracy.\n",
    "\n",
    "Still, let's try some things."
   ]
  },
  {
   "cell_type": "markdown",
   "metadata": {},
   "source": [
    "### Problem 3. Decide on a Modelling Function (2 points)\n",
    "We can see that our old approach can work somewhat. If we try to plot the prediction function, we'll see this:"
   ]
  },
  {
   "cell_type": "code",
   "execution_count": null,
   "metadata": {},
   "outputs": [],
   "source": [
    "plt.scatter(all_times, exam_result)\n",
    "plt.hlines([0, 1], [1, 5], [5, 10], color = \"red\")\n",
    "plt.vlines(5, 0, 1, linestyle = \"dashed\", color = \"red\")\n",
    "plt.show()"
   ]
  },
  {
   "cell_type": "markdown",
   "metadata": {},
   "source": [
    "The red line is called \"decision boundary\". We can see that we misclassified some students but we are mostly correct.\n",
    "\n",
    "However, the function has problems. First of all, it's undefined at $x = 5$ (we don't know if it's 0 or 1). Second, it has \"sharp corners\", and mathematicians hate functions with sharp corners :).\n",
    "\n",
    "We're looking for a function that kind of looks like our line. And there is such a function. It's called a **sigmoid** function. Its definition is like this:\n",
    "\n",
    "$$ \\sigma(z) = \\frac{1}{1+e^{-z}} $$\n",
    "\n",
    "Implement the previous formula in code. Note: you can use `np.exp(something)` instead of `np.e ** something` - it's much more reliable."
   ]
  },
  {
   "cell_type": "code",
   "execution_count": null,
   "metadata": {
    "deletable": false,
    "nbgrader": {
     "checksum": "79cce4179f40f32dc70c0beed97bd359",
     "grade": false,
     "grade_id": "cell-5a833837981bc4a0",
     "locked": false,
     "schema_version": 1,
     "solution": true
    }
   },
   "outputs": [],
   "source": [
    "def sigmoid(z):\n",
    "    # YOUR CODE HERE\n",
    "    raise NotImplementedError()"
   ]
  },
  {
   "cell_type": "markdown",
   "metadata": {},
   "source": [
    "Now that we have the function (and hopefully it's correct :D), we can plot it. The plot should look similar to what's described in [this](https://en.wikipedia.org/wiki/Sigmoid_function) article."
   ]
  },
  {
   "cell_type": "code",
   "execution_count": null,
   "metadata": {},
   "outputs": [],
   "source": [
    "x = np.linspace(-10, 10, 1000)\n",
    "y = sigmoid(x) # Note that this line should work correctly\n",
    "plt.plot(x, y)\n",
    "plt.show()"
   ]
  },
  {
   "cell_type": "markdown",
   "metadata": {},
   "source": [
    "This function, as you can see, has interesting properties:\n",
    "* For really large negative $x$ (say $x < -5$), it's practically 0\n",
    "* For really large positive $x$, it's practically 1\n",
    "* At 0, it's 0.5 exactly\n",
    "\n",
    "Also, it looks like our original guess and has no sharp corners. This function is also called **logistic function** and it will be our **modelling function**."
   ]
  },
  {
   "cell_type": "code",
   "execution_count": null,
   "metadata": {
    "deletable": false,
    "editable": false,
    "nbgrader": {
     "checksum": "7fe48a38476e895d11e6c90914095c8f",
     "grade": true,
     "grade_id": "cell-fe10135ce3b8cff3",
     "locked": true,
     "points": 1,
     "schema_version": 1,
     "solution": false
    }
   },
   "outputs": [],
   "source": [
    "assert_almost_equal(sigmoid(-50), 0, delta = 1e-10)\n",
    "assert_almost_equal(sigmoid(0), 0.5, delta = 1e-10)\n",
    "assert_almost_equal(sigmoid(50), 1, delta = 1e-10)"
   ]
  },
  {
   "cell_type": "markdown",
   "metadata": {},
   "source": [
    "We will need to fix an issue: $\\sigma(z)$ has continuous output, as we already saw. How do we make it binary?\n",
    "\n",
    "Simple enough; if $\\sigma \\lt 0.5$, we'll output 0 and 1 otherwise (note that this will assign class 1 to $\\sigma(0)$ but that's OK).\n",
    "\n",
    "Let's write a function that accepts a $z$ (number between 0 and 1) and decides what output label should it produce: 0 or 1. Note that this is exactly the process that we defined as \"thresholding\" some time ago."
   ]
  },
  {
   "cell_type": "code",
   "execution_count": null,
   "metadata": {
    "deletable": false,
    "nbgrader": {
     "checksum": "0a495a6adcb465a2a0701dbfa84eeb3e",
     "grade": false,
     "grade_id": "cell-72d18afc1bdbc4cd",
     "locked": false,
     "schema_version": 1,
     "solution": true
    }
   },
   "outputs": [],
   "source": [
    "def generate_output(z):\n",
    "    # YOUR CODE HERE\n",
    "    raise NotImplementedError()"
   ]
  },
  {
   "cell_type": "code",
   "execution_count": null,
   "metadata": {
    "deletable": false,
    "editable": false,
    "nbgrader": {
     "checksum": "c8de1dbddc706ac3ffa6b6da737431c9",
     "grade": true,
     "grade_id": "cell-e6e5fb40e0bb020f",
     "locked": true,
     "points": 1,
     "schema_version": 1,
     "solution": false
    }
   },
   "outputs": [],
   "source": [
    "for x in np.arange(-2, 3):\n",
    "    print(x, sigmoid(x), generate_output(x))"
   ]
  },
  {
   "cell_type": "markdown",
   "metadata": {},
   "source": [
    "### Problem 4. Use the Sigmoid Function as a Model (1 point)\n",
    "Now, we've got another issue ahead. How can we model the parameter $z$ of $\\sigma(z)$? All we know is that it should be a number.\n",
    "\n",
    "Well, this number must be somehow related to the input parameters. The simplest possible relation is linear:\n",
    "\n",
    "$$z = ax + b$$\n",
    "\n",
    "where $x$ is the number of hours, $a$ is its coefficient, and $b$ is an intercept (also called \"free term\" or \"bias term\").\n",
    "\n",
    "Therefore, we can rewrite our function $\\sigma(z)$ to be $l(x)$, like so:\n",
    "$$ l(x) = \\frac{1}{1+e^{-(ax+b)}}=\\sigma(ax+b) $$\n",
    "\n",
    "$l$ stands for \"logistic function\".\n",
    "\n",
    "This function has two properties:\n",
    "* Its value will tell us which class to choose (0 or 1)\n",
    "* It can serve as a probability: $l(x)$ is equal to the probability that the output class is 1\n",
    "\n",
    "Write a function that does exactly this. **Reuse your implementation** of the `sigmoid` function."
   ]
  },
  {
   "cell_type": "code",
   "execution_count": null,
   "metadata": {
    "deletable": false,
    "nbgrader": {
     "checksum": "5fb407862fc4e5a8b3bdc4dacbc39488",
     "grade": false,
     "grade_id": "cell-671cdc824b7d585c",
     "locked": false,
     "schema_version": 1,
     "solution": true
    }
   },
   "outputs": [],
   "source": [
    "def logistic_function(x, a, b):\n",
    "    # YOUR CODE HERE\n",
    "    raise NotImplementedError()"
   ]
  },
  {
   "cell_type": "code",
   "execution_count": null,
   "metadata": {
    "deletable": false,
    "editable": false,
    "nbgrader": {
     "checksum": "df0ce821e8fff8db059aa511d6bc8049",
     "grade": true,
     "grade_id": "cell-92f8ba87e6c6ee5e",
     "locked": true,
     "points": 1,
     "schema_version": 1,
     "solution": false
    }
   },
   "outputs": [],
   "source": [
    "# The function should work with both numbers and numpy arrays\n",
    "print(logistic_function(0, 1, 0)) # Should be 0.5\n",
    "print(logistic_function(np.arange(-2, 5), a = -2, b = 3)) # Should return decreasing numbers"
   ]
  },
  {
   "cell_type": "markdown",
   "metadata": {},
   "source": [
    "Now the problem is similar to what we did before: we need to find the best parameters $a$ and $b$.\n",
    "\n",
    "Let's try out different values of $a$ and $b$, just to get a feel of what we need to do:"
   ]
  },
  {
   "cell_type": "code",
   "execution_count": null,
   "metadata": {},
   "outputs": [],
   "source": [
    "def plot_prediction_with_sigmoid(a, b, x, y, title = \"\"):\n",
    "    plt.scatter(x, y)\n",
    "    logistic_x_values = np.linspace(-2, 12, 1000)\n",
    "    logistic_y_values = logistic_function(logistic_x_values, a, b)\n",
    "    plt.plot(logistic_x_values, logistic_y_values, color = \"red\")\n",
    "    plt.title(title)\n",
    "    plt.show()\n",
    "\n",
    "for a, b in [[2, 5], [3, -6], [-5, 0.5], [1.5, -8]]:\n",
    "    plot_prediction_with_sigmoid(a, b, all_times, exam_result)"
   ]
  },
  {
   "cell_type": "markdown",
   "metadata": {},
   "source": [
    "We can understand that $a$ controls how \"spread out\" the function is, also if $a < 0$, the function is inverted. $b$ seems to control where the \"center point\" is."
   ]
  },
  {
   "cell_type": "markdown",
   "metadata": {},
   "source": [
    "### Problem 5. Choose an Error Function (2 points)\n",
    "Now that we have an idea what our modelling function does, the next step is to choose a good error function.\n",
    "\n",
    "The error function should accept a single predicted value $\\tilde{y} = \\sigma(ax+b)$ and an actual value $y$. It should tell us whether we're right or not. Note that the sigmoid value is always between 0 and 1.\n",
    "\n",
    "**Note:** In terminology, there's a difference between \"error function\" and \"cost / loss function\". The error function is defined for one point only while the cost function is for the entire dataset.\n",
    "\n",
    "Since we have two classes, we will need to define a separate error function for each class: $error_0$ will correspond to the case where the correct class should be $0$; $error_1$ will correspond to class $1$.\n",
    "\n",
    "Our intuition is that the errors should be equal to zero if we predicted the class correctly, and greater than zero otherwise. So, for example, the error functions might look like this:"
   ]
  },
  {
   "cell_type": "code",
   "execution_count": null,
   "metadata": {},
   "outputs": [],
   "source": [
    "sigmoid_values = np.linspace(0, 1, 1000)\n",
    "error_0_values = sigmoid_values\n",
    "error_1_values = - sigmoid_values + 1\n",
    "plt.plot(sigmoid_values, error_0_values, label = \"$error_0$\")\n",
    "plt.plot(sigmoid_values, error_1_values, label = \"$error_1$\")\n",
    "plt.legend()\n",
    "plt.show()"
   ]
  },
  {
   "cell_type": "markdown",
   "metadata": {},
   "source": [
    "Take $error_0$ for example. It is 0 if the predicted class is 0 and increases everywhere else.\n",
    "\n",
    "There are many choices for error functions. However, not all are created equal. For purposes we're not going to discuss, it turns out the best error function for logistic regression is this:\n",
    "$$\n",
    "error_0 = -\\ln(1-x) \\\\\n",
    "error_1 = -\\ln(x)\n",
    "$$\n",
    "\n",
    "If you're interested why this function is the best, you can look it up online. The main idea is that this function has only one minimum. When we do gradient descent, we can get stuck in a local minimum and miss the global one. This error function ensures that nasty thing won't happen.\n",
    "\n",
    "Let's implement and inspect the two functions:"
   ]
  },
  {
   "cell_type": "code",
   "execution_count": null,
   "metadata": {
    "deletable": false,
    "nbgrader": {
     "checksum": "9ecbdc8a9fa75771cf373aa8c9b2429b",
     "grade": false,
     "grade_id": "cell-b8c755eadd32790e",
     "locked": false,
     "schema_version": 1,
     "solution": true
    }
   },
   "outputs": [],
   "source": [
    "def error_0(x):\n",
    "    # YOUR CODE HERE\n",
    "    raise NotImplementedError()\n",
    "\n",
    "def error_1(x):\n",
    "    # YOUR CODE HERE\n",
    "    raise NotImplementedError()"
   ]
  },
  {
   "cell_type": "code",
   "execution_count": null,
   "metadata": {
    "deletable": false,
    "editable": false,
    "nbgrader": {
     "checksum": "2ebfe9f3d7be1711793bd74df9fa7566",
     "grade": true,
     "grade_id": "cell-19b0edfed3b62042",
     "locked": true,
     "points": 1,
     "schema_version": 1,
     "solution": false
    }
   },
   "outputs": [],
   "source": [
    "assert_almost_equal(error_0(0), 0)\n",
    "assert_greater(error_0(1), 0)\n",
    "\n",
    "assert_almost_equal(error_1(1), 0)\n",
    "assert_greater(error_1(0), 0)\n"
   ]
  },
  {
   "cell_type": "code",
   "execution_count": null,
   "metadata": {},
   "outputs": [],
   "source": [
    "# This will produce errors because log(0) is infinity; we can just ignore them for now\n",
    "sigmoid_values = np.linspace(0, 1, 1000)\n",
    "plt.plot(sigmoid_values, error_0(sigmoid_values), label = \"$error_0$\")\n",
    "plt.plot(sigmoid_values, error_1(sigmoid_values), label = \"$error_1$\")\n",
    "plt.legend()\n",
    "plt.show()"
   ]
  },
  {
   "cell_type": "markdown",
   "metadata": {},
   "source": [
    "These error functions not only work. They have an **additional property** that makes them special. Focus on $error_0$ for  example. Besides being $0$ when the predicted class is $0$, it's also equal to $\\infty$ when we get the class totally wrong.\n",
    "\n",
    "That's how you punish an algorithm for being wrong :)!"
   ]
  },
  {
   "cell_type": "markdown",
   "metadata": {},
   "source": [
    "One more question: how do we decide whether we should use $error_0$ or $error_1$? We look at the original $y$ (`exam_result` in our case). If $y = 0$, we'll use $error_0$ and vice versa. This will combine our two error functions into one convenient error function.\n",
    "\n",
    "Write this convenient function. It should accept an input value $z \\in (-\\infty; \\infty)$ and an expected output value $y$ (0 or 1).\n",
    "\n",
    "First, it should pass $z$ through the sigmoid function to get $\\sigma(z)$. After that, based on $y$, it should choose the correct function and return the error.\n",
    "* If $y = 0$, return $error_0(\\sigma(z))$\n",
    "* If $y = 1$, return $error_1(\\sigma(z))$"
   ]
  },
  {
   "cell_type": "code",
   "execution_count": null,
   "metadata": {
    "deletable": false,
    "nbgrader": {
     "checksum": "cc16f57595525e68013d968698083505",
     "grade": false,
     "grade_id": "cell-d34ce23b84cd1dcc",
     "locked": false,
     "schema_version": 1,
     "solution": true
    }
   },
   "outputs": [],
   "source": [
    "def get_error(z, y):\n",
    "    # YOUR CODE HERE\n",
    "    raise NotImplementedError()"
   ]
  },
  {
   "cell_type": "markdown",
   "metadata": {},
   "source": [
    "Let's test this function to see that it works. If we pass a negative value for $z$, the sigmoid function will be approximately zero, so it predicts class 0. If $y = 0$, congrats, we have almost zero error. If $y = 1$, we'll get punished."
   ]
  },
  {
   "cell_type": "code",
   "execution_count": null,
   "metadata": {
    "deletable": false,
    "editable": false,
    "nbgrader": {
     "checksum": "89062b5cdfbcf4dba13ac0e4f80d59e4",
     "grade": true,
     "grade_id": "cell-78e4aee5f7010ec8",
     "locked": true,
     "points": 1,
     "schema_version": 1,
     "solution": false
    }
   },
   "outputs": [],
   "source": [
    "print(get_error(-10, 0)) # Almost zero\n",
    "print(get_error(-10, 1)) # Very large (approximately equal to 10)"
   ]
  },
  {
   "cell_type": "markdown",
   "metadata": {},
   "source": [
    "### Problem 6. Calculate the Cost Function from the Error Function (1 point)\n",
    "Now, we have an error function which accepts a real number $z$ and an expected class and returns the prediction error. Now we have to repeat what we did in step 4 and rewrite the entire thing to use $x$, the input value.\n",
    "\n",
    "That's really simple. We should just take $x, y$, and the parameters $a, b$. All four parameters are real numbers. From them, we need to calculate $z = ax+b$. This $z$ is what we need to pass to `get_error(z, y)`.\n",
    "\n",
    "Write a function that does this."
   ]
  },
  {
   "cell_type": "code",
   "execution_count": null,
   "metadata": {
    "deletable": false,
    "nbgrader": {
     "checksum": "4785d979c0b59107942400db95703c4d",
     "grade": false,
     "grade_id": "cell-7da0ed8e17557d5e",
     "locked": false,
     "schema_version": 1,
     "solution": true
    }
   },
   "outputs": [],
   "source": [
    "def compute_error_function(a, b, x, y):\n",
    "    # YOUR CODE HERE\n",
    "    raise NotImplementedError()\n",
    "    \n",
    "print(compute_error_function(-5, 0, 1, 0)) # Should be about 0.007"
   ]
  },
  {
   "cell_type": "markdown",
   "metadata": {},
   "source": [
    "The total cost function is the sum of all errors. Write a function that accepts `data_x` and `data_y` - arrays of points, and also `a` and `b`. For each point, compute the error function. Sum all error functions to get the total cost."
   ]
  },
  {
   "cell_type": "code",
   "execution_count": null,
   "metadata": {
    "deletable": false,
    "nbgrader": {
     "checksum": "350e8521e233ebcc96caa3edce3efcf0",
     "grade": false,
     "grade_id": "cell-f6a7f0ad3bb7f5a8",
     "locked": false,
     "schema_version": 1,
     "solution": true
    }
   },
   "outputs": [],
   "source": [
    "def compute_total_cost(a, b, data_x, data_y):\n",
    "    # YOUR CODE HERE\n",
    "    raise NotImplementedError()"
   ]
  },
  {
   "cell_type": "markdown",
   "metadata": {},
   "source": [
    "Now let's go back and see what total costs we should get. We saw that the last function approximation looked most reasonable. It should have the smallest error."
   ]
  },
  {
   "cell_type": "code",
   "execution_count": null,
   "metadata": {
    "deletable": false,
    "editable": false,
    "nbgrader": {
     "checksum": "f808a100908c88a00becb0ea81a7e02a",
     "grade": true,
     "grade_id": "cell-aefbf00d7ba63fa2",
     "locked": true,
     "points": 1,
     "schema_version": 1,
     "solution": false
    }
   },
   "outputs": [],
   "source": [
    "for a, b in [[2, 5], [3, -6], [-5, 0.5], [1.5, -8]]:\n",
    "    total_cost = compute_total_cost(a, b, all_times, exam_result)\n",
    "    plot_prediction_with_sigmoid(a, b, all_times, exam_result, \"Total cost: \" + str(total_cost))\n",
    "    "
   ]
  },
  {
   "cell_type": "markdown",
   "metadata": {},
   "source": [
    "### Problem 7. Perform gradient ascent (1 point)\n",
    "Now we've gone really far. What remains is to try to find the unknown coefficients $a$ and $b$.\n",
    "\n",
    "We're not going to cover the details of the derivation of the gradients. If you're interested how this works, you can look it up online. The method is fairly common in statistics and is called \"maximum likelihood estimation\", i.e. we try to estimate the parameters $a$ and $b$ so that the prediction $\\tilde{y}$ is as close as possible to the observed variable $y$.\n",
    "\n",
    "Here's an important detail, though. Because of how these calculations go, we need to **maximize**, not minimize the target function. The method is called **gradient ascent**. When we update the values, we add, not subtract, the new gradients.\n",
    "\n",
    "$$\n",
    "a = a + \\nabla J_a \\\\\n",
    "b = b + \\nabla J_b\n",
    "$$\n",
    "\n",
    "The implementation of `perform_gradient_ascent()` for logistic regression is given to you."
   ]
  },
  {
   "cell_type": "code",
   "execution_count": null,
   "metadata": {},
   "outputs": [],
   "source": [
    "def perform_gradient_ascent(a, b, data_x, data_y, learning_rate):\n",
    "    y_predicted = sigmoid(a * data_x + b)\n",
    "    errors = data_y - y_predicted\n",
    "    a_gradient = np.sum(data_x * errors)\n",
    "    b_gradient = np.sum(errors)\n",
    "    new_a = a + learning_rate * a_gradient\n",
    "    new_b = b + learning_rate * b_gradient\n",
    "    return new_a, new_b"
   ]
  },
  {
   "cell_type": "markdown",
   "metadata": {},
   "source": [
    "Use that to perform 3 000 iterations. Start from $a = 0,\\ b = 0$. At each iteration, update $a$ and $b$. Print the final values at the end. Use `all_times` and `exam_result` as your variables. Use a learning rate $\\alpha = 0.01$.\n",
    "\n",
    "If you wish, you can call `compute_total_cost(a, b, data_x, data_y)` and even plot the learning curve. This will give you a good idea whether your model worked or not."
   ]
  },
  {
   "cell_type": "code",
   "execution_count": null,
   "metadata": {
    "deletable": false,
    "nbgrader": {
     "checksum": "bf029cf1087c2b1cc96548feb87b9311",
     "grade": false,
     "grade_id": "cell-1486b3cbc3fe053c",
     "locked": false,
     "schema_version": 1,
     "solution": true
    }
   },
   "outputs": [],
   "source": [
    "def train_model(data_x, data_y):\n",
    "    # YOUR CODE HERE\n",
    "    raise NotImplementedError()"
   ]
  },
  {
   "cell_type": "code",
   "execution_count": null,
   "metadata": {},
   "outputs": [],
   "source": [
    "a, b = train_model(all_times, exam_result)\n",
    "print(\"a = {}; b = {}\".format(a, b))"
   ]
  },
  {
   "cell_type": "code",
   "execution_count": null,
   "metadata": {
    "deletable": false,
    "editable": false,
    "nbgrader": {
     "checksum": "e9ea50d469d2f1288a8152045cd0a205",
     "grade": true,
     "grade_id": "cell-9cd155d1d279863a",
     "locked": true,
     "points": 1,
     "schema_version": 1,
     "solution": false
    }
   },
   "outputs": [],
   "source": [
    "assert_is_not_none(a)\n",
    "assert_is_not_none(b)"
   ]
  },
  {
   "cell_type": "markdown",
   "metadata": {},
   "source": [
    "We can compare our implementation to something else. An algorithm that we know works for sure, is the `scikit-learn` implementation.\n",
    "\n",
    "The next cell performs logistic regression using `scikit-learn`. You should observe that the parameters are almost the same as those we got. This means that our implementation works well.\n",
    "\n",
    "The `C` parameter is related to something we haven't discussed called **regularization**. A large number means no regularization is applied, which is what we did. A more detailed discussion is out of the scope of this lab."
   ]
  },
  {
   "cell_type": "code",
   "execution_count": null,
   "metadata": {},
   "outputs": [],
   "source": [
    "model = LogisticRegression(C = 1e9)\n",
    "model.fit(all_times.reshape(-1, 1), exam_result)\n",
    "print(\"a = {}; b = {}\".format(model.coef_[0, 0], model.intercept_[0]))"
   ]
  },
  {
   "cell_type": "markdown",
   "metadata": {},
   "source": [
    "### Problem 8. Test your model (1 point)\n",
    "Let's create a `predict()` function. It should accept `a` and `b`, and the training data (`all_times` in our case). Its job is to predict the output class. To do this, it should use the already defined `generate_output()` function. To make things easier, this function is provided for you."
   ]
  },
  {
   "cell_type": "code",
   "execution_count": null,
   "metadata": {},
   "outputs": [],
   "source": [
    "def predict(a, b, x_data):\n",
    "    return generate_output(a * x_data + b)"
   ]
  },
  {
   "cell_type": "markdown",
   "metadata": {},
   "source": [
    "Let's now call `predict()` for every input value and compare our outputs to the original ones."
   ]
  },
  {
   "cell_type": "code",
   "execution_count": null,
   "metadata": {},
   "outputs": [],
   "source": [
    "exam_result_predicted = np.array([predict(a, b, time) for time in all_times])\n",
    "print(\"Predicted:\", exam_result_predicted)\n",
    "print(\"Actual:   \", exam_result)"
   ]
  },
  {
   "cell_type": "markdown",
   "metadata": {},
   "source": [
    "A metric for how good our classification is, is called **accuracy**. It's the ratio of guessed classes to all classes.\n",
    "\n",
    "$$A = \\frac{\\text{number of correct guesses}}{\\text{number of total results}}$$\n",
    "\n",
    "Write a function called `calculate_accuracy` which accepts the predicted exam results and the actual exam results and returns the accuracy score."
   ]
  },
  {
   "cell_type": "code",
   "execution_count": null,
   "metadata": {
    "deletable": false,
    "nbgrader": {
     "checksum": "99d83a7c543363fe521f1d88c8946c9f",
     "grade": false,
     "grade_id": "cell-321117662720ef67",
     "locked": false,
     "schema_version": 1,
     "solution": true
    }
   },
   "outputs": [],
   "source": [
    "def calculate_accuracy(predicted, actual):\n",
    "    # YOUR CODE HERE\n",
    "    raise NotImplementedError()"
   ]
  },
  {
   "cell_type": "code",
   "execution_count": null,
   "metadata": {
    "deletable": false,
    "editable": false,
    "nbgrader": {
     "checksum": "62034ce5d5171f3e19f1ea3af2b973a5",
     "grade": true,
     "grade_id": "cell-5cdae793298156a5",
     "locked": true,
     "points": 1,
     "schema_version": 1,
     "solution": false
    }
   },
   "outputs": [],
   "source": [
    "print(calculate_accuracy(exam_result_predicted, exam_result))"
   ]
  },
  {
   "cell_type": "markdown",
   "metadata": {},
   "source": [
    "Finally, if we want to play a little, we can plot correct and incorrect results. This is left as an exercise to the reader :).\n",
    "\n",
    "### Additional notes: OOP\n",
    "We're not looking at object-oriented programming in this course, but we can wrap everything we did in a class. I am including this just for fun. The class contains only vary basic input checks. A real-life scenario will include much more validation.\n",
    "\n",
    "Also, in this class, I'm calling the functions `train_model()`, `predict()`, and `calculate_accuracy()` directly because I know they're already written. A real class won't simply reuse them, they will be part of the class."
   ]
  },
  {
   "cell_type": "code",
   "execution_count": null,
   "metadata": {},
   "outputs": [],
   "source": [
    "class OneVariableLogisticRegression(object):\n",
    "    def __init__(self):\n",
    "        self.is_trained = False\n",
    "        \n",
    "    def train(self, x, y):\n",
    "        assert_is_instance(x, np.ndarray)\n",
    "        assert_is_instance(y, np.ndarray)\n",
    "        assert_equal(x.ndim, 1)\n",
    "        assert_equal(y.ndim, 1)\n",
    "        \n",
    "        self.is_trained = True\n",
    "        self.a, self.b = train_model(x, y)\n",
    "    \n",
    "    def predict(self, x):\n",
    "        if not self.is_trained:\n",
    "            raise RuntimeError(\"The model is not trained\")\n",
    "        return np.vectorize(predict)(self.a, self.b, x)\n",
    "    \n",
    "    def score(self, y_predicted, y_actual):\n",
    "        return calculate_accuracy(y_predicted, y_actual)\n",
    "    \n",
    "# Usage\n",
    "model = OneVariableLogisticRegression()\n",
    "model.train(all_times, exam_result)\n",
    "print(\"a = {}; b = {}\".format(model.a, model.b))\n",
    "print(\"Predicted:\", model.predict(all_times))\n",
    "print(\"Accuracy: {0:.3f}\".format(model.score(model.predict(all_times), exam_result)))"
   ]
  }
 ],
 "metadata": {
  "kernelspec": {
   "display_name": "Python 3 (ipykernel)",
   "language": "python",
   "name": "python3"
  },
  "language_info": {
   "codemirror_mode": {
    "name": "ipython",
    "version": 3
   },
   "file_extension": ".py",
   "mimetype": "text/x-python",
   "name": "python",
   "nbconvert_exporter": "python",
   "pygments_lexer": "ipython3",
   "version": "3.9.13"
  }
 },
 "nbformat": 4,
 "nbformat_minor": 2
}
