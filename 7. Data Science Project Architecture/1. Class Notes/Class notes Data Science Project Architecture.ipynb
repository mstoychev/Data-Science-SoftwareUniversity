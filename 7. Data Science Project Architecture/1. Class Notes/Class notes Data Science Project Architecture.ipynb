{
 "cells": [
  {
   "cell_type": "code",
   "execution_count": 1,
   "metadata": {},
   "outputs": [],
   "source": [
    "%matplotlib inline"
   ]
  },
  {
   "cell_type": "code",
   "execution_count": 93,
   "metadata": {},
   "outputs": [
    {
     "ename": "ImportError",
     "evalue": "cannot import name '_validate_lengths'",
     "output_type": "error",
     "traceback": [
      "\u001b[1;31m---------------------------------------------------------------------------\u001b[0m",
      "\u001b[1;31mImportError\u001b[0m                               Traceback (most recent call last)",
      "\u001b[1;32m<ipython-input-93-eb8748d6caea>\u001b[0m in \u001b[0;36m<module>\u001b[1;34m()\u001b[0m\n\u001b[0;32m      4\u001b[0m \u001b[1;32mimport\u001b[0m \u001b[0mtime\u001b[0m\u001b[1;33m\u001b[0m\u001b[0m\n\u001b[0;32m      5\u001b[0m \u001b[1;32mimport\u001b[0m \u001b[0mtimeit\u001b[0m\u001b[1;33m\u001b[0m\u001b[0m\n\u001b[1;32m----> 6\u001b[1;33m \u001b[1;32mfrom\u001b[0m \u001b[0mskimage\u001b[0m\u001b[1;33m.\u001b[0m\u001b[0mio\u001b[0m \u001b[1;32mimport\u001b[0m \u001b[0mimread\u001b[0m\u001b[1;33m\u001b[0m\u001b[0m\n\u001b[0m",
      "\u001b[1;32mC:\\Anaconda\\lib\\site-packages\\skimage\\__init__.py\u001b[0m in \u001b[0;36m<module>\u001b[1;34m()\u001b[0m\n\u001b[0;32m    156\u001b[0m     \u001b[1;32mexcept\u001b[0m \u001b[0mImportError\u001b[0m \u001b[1;32mas\u001b[0m \u001b[0me\u001b[0m\u001b[1;33m:\u001b[0m\u001b[1;33m\u001b[0m\u001b[0m\n\u001b[0;32m    157\u001b[0m         \u001b[0m_raise_build_error\u001b[0m\u001b[1;33m(\u001b[0m\u001b[0me\u001b[0m\u001b[1;33m)\u001b[0m\u001b[1;33m\u001b[0m\u001b[0m\n\u001b[1;32m--> 158\u001b[1;33m     \u001b[1;32mfrom\u001b[0m \u001b[1;33m.\u001b[0m\u001b[0mutil\u001b[0m\u001b[1;33m.\u001b[0m\u001b[0mdtype\u001b[0m \u001b[1;32mimport\u001b[0m \u001b[1;33m*\u001b[0m\u001b[1;33m\u001b[0m\u001b[0m\n\u001b[0m\u001b[0;32m    159\u001b[0m \u001b[1;33m\u001b[0m\u001b[0m\n\u001b[0;32m    160\u001b[0m \u001b[1;33m\u001b[0m\u001b[0m\n",
      "\u001b[1;32mC:\\Anaconda\\lib\\site-packages\\skimage\\util\\__init__.py\u001b[0m in \u001b[0;36m<module>\u001b[1;34m()\u001b[0m\n\u001b[0;32m      5\u001b[0m \u001b[1;32mfrom\u001b[0m \u001b[1;33m.\u001b[0m\u001b[0mapply_parallel\u001b[0m \u001b[1;32mimport\u001b[0m \u001b[0mapply_parallel\u001b[0m\u001b[1;33m\u001b[0m\u001b[0m\n\u001b[0;32m      6\u001b[0m \u001b[1;33m\u001b[0m\u001b[0m\n\u001b[1;32m----> 7\u001b[1;33m \u001b[1;32mfrom\u001b[0m \u001b[1;33m.\u001b[0m\u001b[0marraycrop\u001b[0m \u001b[1;32mimport\u001b[0m \u001b[0mcrop\u001b[0m\u001b[1;33m\u001b[0m\u001b[0m\n\u001b[0m\u001b[0;32m      8\u001b[0m \u001b[1;32mfrom\u001b[0m \u001b[1;33m.\u001b[0m\u001b[0m_regular_grid\u001b[0m \u001b[1;32mimport\u001b[0m \u001b[0mregular_grid\u001b[0m\u001b[1;33m,\u001b[0m \u001b[0mregular_seeds\u001b[0m\u001b[1;33m\u001b[0m\u001b[0m\n\u001b[0;32m      9\u001b[0m \u001b[1;32mfrom\u001b[0m \u001b[1;33m.\u001b[0m\u001b[0munique\u001b[0m \u001b[1;32mimport\u001b[0m \u001b[0munique_rows\u001b[0m\u001b[1;33m\u001b[0m\u001b[0m\n",
      "\u001b[1;32mC:\\Anaconda\\lib\\site-packages\\skimage\\util\\arraycrop.py\u001b[0m in \u001b[0;36m<module>\u001b[1;34m()\u001b[0m\n\u001b[0;32m      6\u001b[0m \u001b[1;33m\u001b[0m\u001b[0m\n\u001b[0;32m      7\u001b[0m \u001b[1;32mimport\u001b[0m \u001b[0mnumpy\u001b[0m \u001b[1;32mas\u001b[0m \u001b[0mnp\u001b[0m\u001b[1;33m\u001b[0m\u001b[0m\n\u001b[1;32m----> 8\u001b[1;33m \u001b[1;32mfrom\u001b[0m \u001b[0mnumpy\u001b[0m\u001b[1;33m.\u001b[0m\u001b[0mlib\u001b[0m\u001b[1;33m.\u001b[0m\u001b[0marraypad\u001b[0m \u001b[1;32mimport\u001b[0m \u001b[0m_validate_lengths\u001b[0m\u001b[1;33m\u001b[0m\u001b[0m\n\u001b[0m\u001b[0;32m      9\u001b[0m \u001b[1;33m\u001b[0m\u001b[0m\n\u001b[0;32m     10\u001b[0m \u001b[1;33m\u001b[0m\u001b[0m\n",
      "\u001b[1;31mImportError\u001b[0m: cannot import name '_validate_lengths'"
     ]
    }
   ],
   "source": [
    "import matplotlib.pyplot as plt\n",
    "import numpy as np\n",
    "import pandas as pd\n",
    "import time\n",
    "import timeit\n",
    "from skimage.io import imread"
   ]
  },
  {
   "cell_type": "markdown",
   "metadata": {},
   "source": [
    "# Class Notes - Data Science Project Architecture\n",
    "*Putting everything together: math, code,data, scientific approach*"
   ]
  },
  {
   "cell_type": "markdown",
   "metadata": {},
   "source": [
    "#### Table of Contents\n",
    "* High quality code and software engineering best practices\n",
    "    * Code conventions\n",
    "* Data science project structure\n",
    "* Improving code\n",
    "    * Debugging, unit tests, performance tests\n",
    "* Reproducible research\n",
    "    * Tools, methods, ideas"
   ]
  },
  {
   "cell_type": "markdown",
   "metadata": {},
   "source": [
    "## High Quality Code\n",
    "*Best practices, guides, patterns*\n",
    "\n",
    "\n",
    "### Code Conventions\n",
    "* Scientists usually don't care too much about code\n",
    "* Leads to several things\n",
    "    * Scientists' code is sometimes hard to understand and maintain\n",
    "    * Developers can have a hard time debugging, and / or\n",
    "communicating ideas\n",
    "* Why not take the best of both worlds?\n",
    "* Python guidelines (\"The Zen of Python\")\n",
    "    * **import** this\n",
    "* [Google Python Style Guide](https://google.github.io/styleguide/pyguide.html)\n",
    "* It’s good to have code conventions\n",
    "    * Many people can write code as one\n",
    "    * {Team / company > language > personal} conventions"
   ]
  },
  {
   "cell_type": "code",
   "execution_count": 3,
   "metadata": {},
   "outputs": [
    {
     "name": "stdout",
     "output_type": "stream",
     "text": [
      "The Zen of Python, by Tim Peters\n",
      "\n",
      "Beautiful is better than ugly.\n",
      "Explicit is better than implicit.\n",
      "Simple is better than complex.\n",
      "Complex is better than complicated.\n",
      "Flat is better than nested.\n",
      "Sparse is better than dense.\n",
      "Readability counts.\n",
      "Special cases aren't special enough to break the rules.\n",
      "Although practicality beats purity.\n",
      "Errors should never pass silently.\n",
      "Unless explicitly silenced.\n",
      "In the face of ambiguity, refuse the temptation to guess.\n",
      "There should be one-- and preferably only one --obvious way to do it.\n",
      "Although that way may not be obvious at first unless you're Dutch.\n",
      "Now is better than never.\n",
      "Although never is often better than *right* now.\n",
      "If the implementation is hard to explain, it's a bad idea.\n",
      "If the implementation is easy to explain, it may be a good idea.\n",
      "Namespaces are one honking great idea -- let's do more of those!\n"
     ]
    }
   ],
   "source": [
    "import this"
   ]
  },
  {
   "cell_type": "markdown",
   "metadata": {},
   "source": [
    "### General Ideas\n",
    "* \"It's not going to production anyway\"\n",
    "    * Often, **this is** your production code\n",
    "* \"Why did I write this?\"\n",
    "    * Leave comments, and make your code self documenting\n",
    "        * Unit tests can also serve as documentation\n",
    "        * Other assets (e.g., pdf documents, issues, project requirements, etc.) can also help on a higher level\n",
    "* Use descriptive names\n",
    "    * Add meaningful context\n",
    "    * Avoid misleading names, comments, etc.\n",
    "* Refactor the code when needed\n",
    "    * Technical debt\n",
    "* Separate the code into smaller, single-purpose chunks\n",
    "\n",
    "\n",
    "## Naming Stuff\n",
    "* lower_with_under - variables, functions, files, folders\n",
    "* UPPER_WITH_UNDER - global constants\n",
    "* PascalCase - class names, folders\n",
    "* camelCase - **only** to conform to existing conventions\n",
    "* Notes\n",
    "    *  _ leading_underscore - marks a private variable\n",
    "        * Not truly private, only a signal to developers not to mess with it\n",
    "        * __double_leading_underscore –– “mangles” variable names\n",
    "    * __ double_underscores __ - special variables or methods\n",
    "        * \"dunder\" \n",
    "        * __ name __, __ doc __, __ init __, __ str  __, __ repr __, __ len __, etc."
   ]
  },
  {
   "cell_type": "code",
   "execution_count": 4,
   "metadata": {},
   "outputs": [],
   "source": [
    "arr = np.array([1 , 2 , 3])"
   ]
  },
  {
   "cell_type": "code",
   "execution_count": 5,
   "metadata": {},
   "outputs": [
    {
     "data": {
      "text/plain": [
       "'[1 2 3]'"
      ]
     },
     "execution_count": 5,
     "metadata": {},
     "output_type": "execute_result"
    }
   ],
   "source": [
    "arr.__str__()"
   ]
  },
  {
   "cell_type": "code",
   "execution_count": 6,
   "metadata": {},
   "outputs": [
    {
     "data": {
      "text/plain": [
       "'array([1, 2, 3])'"
      ]
     },
     "execution_count": 6,
     "metadata": {},
     "output_type": "execute_result"
    }
   ],
   "source": [
    "arr.__repr__()"
   ]
  },
  {
   "cell_type": "code",
   "execution_count": 7,
   "metadata": {},
   "outputs": [
    {
     "data": {
      "text/plain": [
       "3"
      ]
     },
     "execution_count": 7,
     "metadata": {},
     "output_type": "execute_result"
    }
   ],
   "source": [
    "arr.__len__()"
   ]
  },
  {
   "cell_type": "code",
   "execution_count": 8,
   "metadata": {},
   "outputs": [],
   "source": [
    "def add_two_numbers(a, b):\n",
    "    \"\"\"\n",
    "    Add two numbers,\n",
    "    \n",
    "    a = Integer, first parameter\n",
    "    b = Integer, second parameter\n",
    "    \n",
    "    rReturns:\n",
    "    The sum of a + b.\n",
    "    \"\"\"\n",
    "    return a + b"
   ]
  },
  {
   "cell_type": "code",
   "execution_count": 9,
   "metadata": {
    "scrolled": true
   },
   "outputs": [
    {
     "data": {
      "text/plain": [
       "12"
      ]
     },
     "execution_count": 9,
     "metadata": {},
     "output_type": "execute_result"
    }
   ],
   "source": [
    "num_1 = 5\n",
    "num_2 = 7\n",
    "add_two_numbers(num_1, num_2)"
   ]
  },
  {
   "cell_type": "code",
   "execution_count": 10,
   "metadata": {},
   "outputs": [
    {
     "name": "stdout",
     "output_type": "stream",
     "text": [
      "\n",
      "    Add two numbers,\n",
      "    \n",
      "    a = Integer, first parameter\n",
      "    b = Integer, second parameter\n",
      "    \n",
      "    rReturns:\n",
      "    The sum of a + b.\n",
      "    \n"
     ]
    }
   ],
   "source": [
    "print(add_two_numbers.__doc__)"
   ]
  },
  {
   "cell_type": "markdown",
   "metadata": {},
   "source": [
    "### Readability\n",
    "* Use imports for modules and packages\n",
    "* Avoid global variables\n",
    "    * Pollute the global scope\n",
    "    * Can create subtle dependencies in the code\n",
    "    * Try using function parameters (and / or classes)\n",
    "* List comprehensions, lambdas, conditional expressions\n",
    "    * Okay for simple, one line cases\n",
    "        - print([x + 3 for x in range(3)])\n",
    "        - sum_two_nums = lambda x, y: x + y\n",
    "        - print((\"eve\" if a % 2 == 0 else \"odd\")\n",
    "    \n",
    "    * Lexical scoping (closures) - **use** very carefully\n",
    "        - def summator(a): # Usage: summator(4)(5)\n",
    "             - def inner_summator(b):\n",
    "                 - return a + b\n",
    "            - return inner_summator       "
   ]
  },
  {
   "cell_type": "code",
   "execution_count": 11,
   "metadata": {
    "scrolled": true
   },
   "outputs": [
    {
     "name": "stdout",
     "output_type": "stream",
     "text": [
      "[3, 4, 5]\n"
     ]
    }
   ],
   "source": [
    "print([x + 3 for x in range(3)])"
   ]
  },
  {
   "cell_type": "code",
   "execution_count": 12,
   "metadata": {},
   "outputs": [],
   "source": [
    "sum_two_nums = lambda x, y: x + y"
   ]
  },
  {
   "cell_type": "code",
   "execution_count": 13,
   "metadata": {},
   "outputs": [
    {
     "name": "stdout",
     "output_type": "stream",
     "text": [
      "odd\n"
     ]
    }
   ],
   "source": [
    "a = 45\n",
    "print(\"eve\" if a % 2 == 0 else \"odd\")"
   ]
  },
  {
   "cell_type": "code",
   "execution_count": 14,
   "metadata": {},
   "outputs": [],
   "source": [
    "# Lexical scooping\n",
    "def summator(a): # Usage: summator(4)(5)\n",
    "    def inner_summator(b):\n",
    "        return a + b\n",
    "    return inner_summator"
   ]
  },
  {
   "cell_type": "markdown",
   "metadata": {},
   "source": [
    "### Readability (2)\n",
    "* Whitespace\n",
    "    * **DO NOT** mix tabs and spaces!\n",
    "        - Prefer spaces (text editors replace 1 tab with 4 spaces by default)\n",
    "        - This **can create** a lot of pain and **sinister bugs**\n",
    "    * 1-2 blank lines between variables, functions and methods\n",
    "    * Use typography rules (e.g. 1 space after comma)\n",
    "\n",
    "* Comments \n",
    "    * Avoid inline comments\n",
    "        - x = x + 1  # Increment x by 1\n",
    "    * Docstrings a way of documenting the code, unique to Python\n",
    "        - More info [here](https://peps.python.org/pep-0257/)\n",
    "        - TODO comments: temporary code, short term solution, or good enough but not perfect"
   ]
  },
  {
   "cell_type": "markdown",
   "metadata": {},
   "source": [
    "### Object Oriented Programming\n",
    "* Python has OOP\n",
    "* For most of our purposes, it's not necessary\n",
    "    * We have used a lot of objects, but we didn't really need to create classes\n",
    "* We generally prefer a combination of **procedural** and **functional** style\n",
    "* If you're comfortable, feel free to use classes\n",
    "    * All principles from other OOP languages apply\n",
    "    * Once again, the goal is to create readable code, which is easier to maintain"
   ]
  },
  {
   "cell_type": "markdown",
   "metadata": {},
   "source": [
    "## Project Structure\n",
    "*How not to get lost*\n",
    "\n",
    "### Notebook Structure\n",
    "* Similar to scientific papers\n",
    "* Imports usually the first cell contains all imports\n",
    "* Title, author(s)\n",
    "* Abstract - not mandatory, but really good to have\n",
    "* Data manipulation process\n",
    "    * Divided into sections and subsections\n",
    "    * Most commonly: getting data, transformations, visualization, modelling, etc.\n",
    "* Conclusion(s)\n",
    "* Tips\n",
    "    * Make sections self contained, reduce dependencies\n",
    "    * Create functions when possible\n",
    "        * To avoid creating too many global variables\n",
    "        \n",
    "\n",
    "### File Structure\n",
    "* Usually, projects have one notebook\n",
    "    * You may include many notebooks if you wish\n",
    "    * You can also import code from notebooks\n",
    "* Very long code can be separated in .py files\n",
    "    * Not greatly recommended, but sometimes helps\n",
    "        * E.g., if the file contains a lot of utility functions\n",
    "* Using: simply import the files\n",
    "    * Using the file names\n",
    "    * You can also create folders and import them\n",
    "        * These are called \"modules\"\n",
    "    * We usually put all code in a separate folder, e.g., libs or utilities\n",
    "* Data, images and other assets should also be in their own folders"
   ]
  },
  {
   "cell_type": "markdown",
   "metadata": {},
   "source": [
    "## Improving Code\n",
    "*How not to get your peers angry*\n",
    "### Debugging\n",
    "* Hardest way: don't debug at all \n",
    "* Easier: use print() statements at important places\n",
    "* Best: use a debugger to trace the code execution\n",
    "    * Every IDE (such as Visual Studio, VSCode, PyCharm, etc.) has one\n",
    "* Most important concepts\n",
    "    * Breakpoints\n",
    "    * Step into, step over, step out\n",
    "        * These usually have keyboard shortcuts assigned\n",
    "    * Variable inspection\n",
    "    * Interactive window; terminal\n",
    "    * Call stack\n",
    "\n",
    "\n",
    "### Unit Testing\n",
    "* Debugging and testing are very scientific processes\n",
    "    * Intuitive for most people with math / science background\n",
    "* Can show bugs in the code\n",
    "    * **Cannot show the code is bug free!**\n",
    "    * \"Absence of evidence is not evidence of absence\"\n",
    "* Unit tests: pieces of code that test other pieces of code\n",
    "* Unit test layout: **AAA** (**A**rrange, **A**ct, **A**ssert)"
   ]
  },
  {
   "cell_type": "code",
   "execution_count": 15,
   "metadata": {},
   "outputs": [],
   "source": [
    "def sum_numbers(a, b):\n",
    "    return a + b\n",
    "\n",
    "\n",
    "def test_sum_with_zeros():\n",
    "    a = 0\n",
    "    b = 0\n",
    "    result = sum_numbers(a, b)\n",
    "    assert result == 0\n",
    "\n",
    "test_sum_with_zeros()"
   ]
  },
  {
   "cell_type": "markdown",
   "metadata": {},
   "source": [
    "### Other Types of Tests\n",
    "* Unit testing ensures our functions work\n",
    "* There are many more types of tests\n",
    "    * Software: integration tests, regression tests, system tests, security tests, etc.\n",
    "    * Data validation tests - these ensure correct formats of the data\n",
    "* Statistical tests\n",
    "    * Is my hypothesis (or data model) true?\n",
    "    * Example: for linear regression ⇒ $𝑅^2$\n",
    "    * Another example: train / test set in machine learning\n",
    "    * \"Sanity checks\"\n",
    "    * Plotting graphs, comparisons, etc.\n",
    "* It's absolutely important to check most (if not all) of our steps\n",
    "\n",
    "\n",
    "### Performance Tests\n",
    "* Test how fast a code executes\n",
    "    * Better: test the code complexity with different arguments\n",
    "        * Possibly, plot the results\n",
    "* We can use the time library"
   ]
  },
  {
   "cell_type": "code",
   "execution_count": 24,
   "metadata": {},
   "outputs": [],
   "source": [
    "random_numbers = np.random.normal(size=2000)"
   ]
  },
  {
   "cell_type": "code",
   "execution_count": 25,
   "metadata": {},
   "outputs": [
    {
     "name": "stdout",
     "output_type": "stream",
     "text": [
      "1.17 ms ± 123 µs per loop (mean ± std. dev. of 7 runs, 1000 loops each)\n"
     ]
    }
   ],
   "source": [
    "%%timeit\n",
    "sum(random_numbers)"
   ]
  },
  {
   "cell_type": "code",
   "execution_count": 26,
   "metadata": {},
   "outputs": [],
   "source": [
    "numbers_to_list = random_numbers.tolist()"
   ]
  },
  {
   "cell_type": "code",
   "execution_count": 27,
   "metadata": {},
   "outputs": [
    {
     "name": "stdout",
     "output_type": "stream",
     "text": [
      "15.6 µs ± 927 ns per loop (mean ± std. dev. of 7 runs, 100000 loops each)\n"
     ]
    }
   ],
   "source": [
    "%%timeit\n",
    "sum(numbers_to_list)"
   ]
  },
  {
   "cell_type": "markdown",
   "metadata": {},
   "source": [
    "* Important: be careful how you check the time\n",
    "    * Average execution over multiple trials to reduce random errors\n",
    "    * Do not include initializations and \"external\" code\n",
    "        * Code that you’re not interested in optimizing\n",
    "* **Do not optimize prematurely!**"
   ]
  },
  {
   "cell_type": "code",
   "execution_count": 32,
   "metadata": {},
   "outputs": [
    {
     "name": "stdout",
     "output_type": "stream",
     "text": [
      "0.007996320724487305\n"
     ]
    }
   ],
   "source": [
    "start = time.time()\n",
    "\n",
    "numbers = [i for i in range(1000)]\n",
    "sum_of_numbers = sum(numbers)\n",
    "\n",
    "stop = time.time()\n",
    "print(stop - start)"
   ]
  },
  {
   "cell_type": "markdown",
   "metadata": {},
   "source": [
    "### numpy Performance\n",
    "* **numpy** is really fast on arrays and matrices\n",
    "    * It works in C \"behind the scenes\"\n",
    "    * Takes advantage of all elements being of the same type\n",
    "* Vectorization - transforming the code so that it uses vectors and matrices\n",
    "* If possible, use numpy only\n",
    "    * Avoid conversion to and from lists or other structures this is slow"
   ]
  },
  {
   "attachments": {
    "image.png": {
     "image/png": "[encoded data removed]"
    }
   },
   "cell_type": "markdown",
   "metadata": {},
   "source": [
    "![image.png](attachment:image.png)"
   ]
  },
  {
   "cell_type": "markdown",
   "metadata": {},
   "source": [
    "### numpy Performance (2)\n",
    "* Example: grayscale image from RGB\n",
    "    * 1140 x 550px\n",
    "    * The second block is easier to write more intuitive, and 100x faster (0,05s vs 0,5s on my machine)\n",
    "* Correctness test\n",
    "    * (gs_img == np_img).all()"
   ]
  },
  {
   "cell_type": "code",
   "execution_count": 98,
   "metadata": {},
   "outputs": [
    {
     "name": "stdout",
     "output_type": "stream",
     "text": [
      "1.364816427230835\n"
     ]
    }
   ],
   "source": [
    "img = plt.imread(\"images/tiger.jpg\")\n",
    "img_as_list = img.tolist()\n",
    "             \n",
    "start = time.time()\n",
    "gs_img = []\n",
    "for row in range(len(img_as_list)):\n",
    "    gs_img.append([])\n",
    "    for col in range(len(img_as_list[row])):\n",
    "        gs_img[row].append(0)\n",
    "for row in range(len(img_as_list)):\n",
    "    for col in range(len(img_as_list[row])):\n",
    "        curr_sum = round(sum(img_as_list[row][col]) / 3)\n",
    "        gs_img[row][col] = curr_sum\n",
    "             \n",
    "stop = time.time()             \n",
    "print(stop - start)"
   ]
  },
  {
   "cell_type": "code",
   "execution_count": 101,
   "metadata": {},
   "outputs": [
    {
     "name": "stdout",
     "output_type": "stream",
     "text": [
      "0.15443038940429688\n"
     ]
    }
   ],
   "source": [
    "start = time.time()\n",
    "np_img = img.mean(axis = 2).round().astype(\"uint8\")\n",
    "stop = time.time()\n",
    "print(stop - start)"
   ]
  },
  {
   "cell_type": "markdown",
   "metadata": {},
   "source": [
    "We can see that row cicles are cool, but in this case are too large and 10 times slower than numpy performance."
   ]
  },
  {
   "cell_type": "markdown",
   "metadata": {},
   "source": [
    "## Reproducible Research\n",
    "*How to do stuff properly*"
   ]
  },
  {
   "cell_type": "markdown",
   "metadata": {},
   "source": [
    "### Data Science Process\n",
    "* As we know, the data science lifecycle is complex\n",
    "    * For example, see this [image](https://docs.microsoft.com/en-us/azure/machine-learning/team-data-science-process/media/lifecycle/tdsp-lifecycle2.png)\n",
    "    * Also, there are [a lot of topics](https://medium.com/applied-data-science/every-arrow-on-this-diagram-is-a-data-science-project-775339e51828)\n",
    "    \n",
    "    \n",
    "* Components and dependencies \n",
    "    * **Problem**(task)\n",
    "    * **Data**(experiments, dataset; different forms)\n",
    "    * **Algorithms**(e.g., linear regression, Bayesian model)\n",
    "    * **Models**(testing, selecting, fine tuning; normalizing data, etc.)\n",
    "    * **Programming**(APIs, functions, testing)\n",
    "    * **Environment**(packages, such as numpy;or tools, such as Excel)\n",
    "    * **Presentation**(tables, KPIs, visualizations,software)"
   ]
  },
  {
   "cell_type": "markdown",
   "metadata": {},
   "source": [
    "### Reproducible Research\n",
    "* The whole process is complex, so we need a way to verify our work (and possibly other people's work)\n",
    "    * Particularly important when a study affects decisions\n",
    "    * Sometimes impossible: time, opportunity, money, etc.\n",
    "* Why is it so important?\n",
    "    * It's **the only thing** we can guarantee about our study\n",
    "* Easiest way: supply all your data, and your notebooks\n",
    "    * The notebooks contain all information about your research\n",
    "* Requirements: analytical (not raw) data; code; documentation of the code and processes\n",
    "* Markdown and LaTeX help us write more explicit documentation (in text and math format)\n",
    "\n",
    "\n",
    "* **Do**s\n",
    "    * Good science (interesting, relevant problem; communication)\n",
    "    * Automation of tasks (as much as possible)\n",
    "    * Version control usage\n",
    "        * Even if you’re working alone, this helps you in the case something goes terribly wrong\n",
    "    * Environment management(e.g. conda packages)\n",
    "    * Sometimes: random seed, mock objects and other pseudorandom variables\n",
    "\n",
    "* **Don't**s\n",
    "    * Manually edited data\n",
    "        * If we get a new version, we have to edit the data again\n",
    "    * Omitted (deleted) steps of the process\n",
    "        * If a step you perform is not in your notebook, it can’t be replicated easily"
   ]
  },
  {
   "cell_type": "markdown",
   "metadata": {},
   "source": [
    "### Comparing to Previous Work\n",
    "* Both yours (if you have some) and others'\n",
    "    * In the beginning: to see what others have done\n",
    "    * In the end: to compare your findings to others'\n",
    "* This can be a software product, or a paper, or something else\n",
    "* Example: see papers at [arXiv](https://arxiv.org/)\n",
    "Good examples of a scientific article layout\n",
    "* Example 2: [Kaggle](https://www.kaggle.com/) notebooks (kernels)\n",
    "* Don't forget to cite everyone that you've borrowed ideas, code, research methods, or information from\n",
    "    * Reason 1: If they are proven wrong, your research may be wrong too\n",
    "    * Reason 2: You're not plagiarizing them"
   ]
  },
  {
   "cell_type": "code",
   "execution_count": null,
   "metadata": {},
   "outputs": [],
   "source": []
  }
 ],
 "metadata": {
  "kernelspec": {
   "display_name": "Python 3",
   "language": "python",
   "name": "python3"
  },
  "language_info": {
   "codemirror_mode": {
    "name": "ipython",
    "version": 3
   },
   "file_extension": ".py",
   "mimetype": "text/x-python",
   "name": "python",
   "nbconvert_exporter": "python",
   "pygments_lexer": "ipython3",
   "version": "3.6.5"
  }
 },
 "nbformat": 4,
 "nbformat_minor": 5
}
