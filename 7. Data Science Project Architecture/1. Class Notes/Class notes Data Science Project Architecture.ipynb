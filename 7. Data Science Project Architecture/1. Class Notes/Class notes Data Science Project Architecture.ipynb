{
 "cells": [
  {
   "cell_type": "code",
   "execution_count": 1,
   "id": "6a4570f2",
   "metadata": {},
   "outputs": [],
   "source": [
    "%matplotlib inline"
   ]
  },
  {
   "cell_type": "code",
   "execution_count": 2,
   "id": "d8571239",
   "metadata": {},
   "outputs": [],
   "source": [
    "import matplotlib.pyplot as plt\n",
    "import numpy as np\n",
    "import pandas as pd"
   ]
  },
  {
   "cell_type": "markdown",
   "id": "3d9ff90b",
   "metadata": {},
   "source": [
    "# Class Notes - Data Science Project Architecture\n",
    "*Putting everything together: math, code,data, scientific approach*"
   ]
  },
  {
   "cell_type": "markdown",
   "id": "cdea6202",
   "metadata": {},
   "source": [
    "#### Table of Contents\n",
    "* High quality code and software engineering best practices\n",
    "    * Code conventions\n",
    "* Data science project structure\n",
    "* Improving code\n",
    "    * Debugging, unit tests, performance tests\n",
    "* Reproducible research\n",
    "    * Tools, methods, ideas"
   ]
  },
  {
   "cell_type": "markdown",
   "id": "733aa6ce",
   "metadata": {},
   "source": [
    "## High Quality Code\n",
    "*Best practices, guides, patterns*\n",
    "\n",
    "\n",
    "### Code Conventions\n",
    "* Scientists usually don't care too much about code\n",
    "* Leads to several things\n",
    "    * Scientists' code is sometimes hard to understand and maintain\n",
    "    * Developers can have a hard time debugging, and / or\n",
    "communicating ideas\n",
    "* Why not take the best of both worlds?\n",
    "* Python guidelines (\"The Zen of Python\")\n",
    "    * **import** this\n",
    "* [Google Python Style Guide](https://google.github.io/styleguide/pyguide.html)\n",
    "* It’s good to have code conventions\n",
    "    * Many people can write code as one\n",
    "    * {Team / company > language > personal} conventions"
   ]
  },
  {
   "cell_type": "code",
   "execution_count": 3,
   "id": "1699a8a3",
   "metadata": {},
   "outputs": [
    {
     "name": "stdout",
     "output_type": "stream",
     "text": [
      "The Zen of Python, by Tim Peters\n",
      "\n",
      "Beautiful is better than ugly.\n",
      "Explicit is better than implicit.\n",
      "Simple is better than complex.\n",
      "Complex is better than complicated.\n",
      "Flat is better than nested.\n",
      "Sparse is better than dense.\n",
      "Readability counts.\n",
      "Special cases aren't special enough to break the rules.\n",
      "Although practicality beats purity.\n",
      "Errors should never pass silently.\n",
      "Unless explicitly silenced.\n",
      "In the face of ambiguity, refuse the temptation to guess.\n",
      "There should be one-- and preferably only one --obvious way to do it.\n",
      "Although that way may not be obvious at first unless you're Dutch.\n",
      "Now is better than never.\n",
      "Although never is often better than *right* now.\n",
      "If the implementation is hard to explain, it's a bad idea.\n",
      "If the implementation is easy to explain, it may be a good idea.\n",
      "Namespaces are one honking great idea -- let's do more of those!\n"
     ]
    }
   ],
   "source": [
    "import this"
   ]
  },
  {
   "cell_type": "markdown",
   "id": "aec5329b",
   "metadata": {},
   "source": [
    "### General Ideas\n",
    "* \"It's not going to production anyway\"\n",
    "    * Often, **this is** your production code\n",
    "* \"Why did I write this?\"\n",
    "    * Leave comments, and make your code self documenting\n",
    "        * Unit tests can also serve as documentation\n",
    "        * Other assets (e.g., pdf documents, issues, project requirements, etc.) can also help on a higher level\n",
    "* Use descriptive names\n",
    "    * Add meaningful context\n",
    "    * Avoid misleading names, comments, etc.\n",
    "* Refactor the code when needed\n",
    "    * Technical debt\n",
    "* Separate the code into smaller, single-purpose chunks\n",
    "\n",
    "\n",
    "## Naming Stuff\n",
    "* lower_with_under - variables, functions, files, folders\n",
    "* UPPER_WITH_UNDER - global constants\n",
    "* PascalCase - class names, folders\n",
    "* camelCase - **only** to conform to existing conventions\n",
    "* Notes\n",
    "    *  _ leading_underscore - marks a private variable\n",
    "        * Not truly private, only a signal to developers not to mess with it\n",
    "        * __double_leading_underscore –– “mangles” variable names\n",
    "    * __ double_underscores __ - special variables or methods\n",
    "        * __ name __, __ doc __, __ init __, __ str  __, __ repr __, __ len __, etc."
   ]
  },
  {
   "cell_type": "code",
   "execution_count": 5,
   "id": "2256490d",
   "metadata": {},
   "outputs": [],
   "source": [
    "arr = np.array([1 , 2 , 3])"
   ]
  },
  {
   "cell_type": "code",
   "execution_count": 7,
   "id": "f905f414",
   "metadata": {},
   "outputs": [
    {
     "data": {
      "text/plain": [
       "'[1 2 3]'"
      ]
     },
     "execution_count": 7,
     "metadata": {},
     "output_type": "execute_result"
    }
   ],
   "source": [
    "arr.__str__()"
   ]
  },
  {
   "cell_type": "code",
   "execution_count": 8,
   "id": "15efdeee",
   "metadata": {},
   "outputs": [
    {
     "data": {
      "text/plain": [
       "'array([1, 2, 3])'"
      ]
     },
     "execution_count": 8,
     "metadata": {},
     "output_type": "execute_result"
    }
   ],
   "source": [
    "arr.__repr__()"
   ]
  },
  {
   "cell_type": "code",
   "execution_count": 9,
   "id": "c56acb31",
   "metadata": {},
   "outputs": [
    {
     "data": {
      "text/plain": [
       "3"
      ]
     },
     "execution_count": 9,
     "metadata": {},
     "output_type": "execute_result"
    }
   ],
   "source": [
    "arr.__len__()"
   ]
  },
  {
   "cell_type": "markdown",
   "id": "ac4ef8ee",
   "metadata": {},
   "source": [
    "### Readability\n",
    "* Use imports for modules and packages\n",
    "* Avoid global variables\n",
    "    * Pollute the global scope\n",
    "    * Can create subtle dependencies in the code\n",
    "    * Try using function parameters (and / or classes)\n",
    "* List comprehensions, lambdas, conditional expressions\n",
    "    * Okay for simple, one line cases\n",
    "        - print([x + 3 for x in range(3)])\n",
    "        - sum_two_nums = lambda x, y: x + y\n",
    "        - print((\"eve\" if a % 2 == 0 else \"odd\")\n",
    "    \n",
    "    * Lexical scoping (closures) - **use** very carefully\n",
    "        - def summator(a): # Usage: summator(4)(5)\n",
    "             - def inner_summator(b):\n",
    "                 - return a + b\n",
    "            - return inner_summator       "
   ]
  },
  {
   "cell_type": "code",
   "execution_count": 11,
   "id": "9968e390",
   "metadata": {},
   "outputs": [
    {
     "name": "stdout",
     "output_type": "stream",
     "text": [
      "[3, 4, 5]\n"
     ]
    }
   ],
   "source": [
    "print([x + 3 for x in range(3)])"
   ]
  },
  {
   "cell_type": "code",
   "execution_count": 12,
   "id": "2ec5609a",
   "metadata": {},
   "outputs": [],
   "source": [
    "sum_two_nums = lambda x, y: x + y"
   ]
  },
  {
   "cell_type": "code",
   "execution_count": 16,
   "id": "c47cce90",
   "metadata": {},
   "outputs": [
    {
     "name": "stdout",
     "output_type": "stream",
     "text": [
      "odd\n"
     ]
    }
   ],
   "source": [
    "a = 45\n",
    "print(\"eve\" if a % 2 == 0 else \"odd\")"
   ]
  },
  {
   "cell_type": "code",
   "execution_count": 21,
   "id": "650c3530",
   "metadata": {},
   "outputs": [],
   "source": [
    "# Lexical scooping\n",
    "def summator(a): # Usage: summator(4)(5)\n",
    "    def inner_summator(b):\n",
    "        return a + b\n",
    "    return inner_summator"
   ]
  },
  {
   "cell_type": "markdown",
   "id": "a7155dfa",
   "metadata": {},
   "source": [
    "### Readability (2)\n",
    "* Whitespace\n",
    "    * **DO NOT** mix tabs and spaces!\n",
    "        - Prefer spaces (text editors replace 1 tab with 4 spaces by default)\n",
    "        - This **can create** a lot of pain and **sinister bugs**\n",
    "    * 1-2 blank lines between variables, functions and methods\n",
    "    * Use typography rules (e.g. 1 space after comma)\n",
    "\n",
    "* Comments \n",
    "    * Avoid inline comments\n",
    "        - x = x + 1  # Increment x by 1\n",
    "    * Docstrings a way of documenting the code, unique to Python\n",
    "        - More info [here](https://peps.python.org/pep-0257/)\n",
    "        - TODO comments: temporary code, short term solution, or good enough but not perfect"
   ]
  },
  {
   "cell_type": "code",
   "execution_count": null,
   "id": "945bc584",
   "metadata": {},
   "outputs": [],
   "source": []
  }
 ],
 "metadata": {
  "kernelspec": {
   "display_name": "Python 3 (ipykernel)",
   "language": "python",
   "name": "python3"
  },
  "language_info": {
   "codemirror_mode": {
    "name": "ipython",
    "version": 3
   },
   "file_extension": ".py",
   "mimetype": "text/x-python",
   "name": "python",
   "nbconvert_exporter": "python",
   "pygments_lexer": "ipython3",
   "version": "3.9.13"
  }
 },
 "nbformat": 4,
 "nbformat_minor": 5
}
