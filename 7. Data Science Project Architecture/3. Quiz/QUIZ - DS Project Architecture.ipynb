{
 "cells": [
  {
   "cell_type": "markdown",
   "metadata": {},
   "source": [
    "# QUIZ - DS Project Architecture"
   ]
  },
  {
   "cell_type": "markdown",
   "metadata": {},
   "source": [
    "### QUIZ 1 - Naming\n",
    "Which convention is typically used in Python for local variable names?\n",
    "1. alllowercasewithnospaces\n",
    "2. PascalCase\n",
    "3. kebab-case\n",
    "4. snake_case\n",
    "4. __lowercase_with_two_underscores\n",
    "5. camelCase\n",
    "6. UPPERCASE_WITH_UNDERSCORES"
   ]
  },
  {
   "cell_type": "markdown",
   "metadata": {},
   "source": [
    "**Answer**: 4. snake_case"
   ]
  },
  {
   "cell_type": "markdown",
   "metadata": {},
   "source": [
    "### QUIZ 2 - OOP Basics\n",
    "If you create a Python class, you will probably need a constructor. What is the method signature of a constructor with no arguments in Python? Hint: Try it yourself and copy the answer directly."
   ]
  },
  {
   "cell_type": "markdown",
   "metadata": {},
   "source": [
    "def _ _init_ _(self):\n"
   ]
  },
  {
   "cell_type": "markdown",
   "metadata": {},
   "source": [
    "### QUIZ 3 - Function Calls\n",
    "When we perform a function call, the Python interpreter saves \"the current state\" (called an \"environment\" in technical terms) in a specific data structure. What is this structure called?\n",
    "1. Depth-first traversal\n",
    "2. Call list\n",
    "2. Directed acyclic graph\n",
    "2. Call tree\n",
    "2. Call stack\n",
    "2. Call heap\n",
    "2. Call queue\n",
    "2. Linked list"
   ]
  },
  {
   "cell_type": "markdown",
   "metadata": {},
   "source": [
    "**Answer:** 5. Call stack"
   ]
  },
  {
   "cell_type": "markdown",
   "metadata": {},
   "source": [
    "QUIZ 4 - Cohesion and Coupling\n",
    "Imagine you write some code. A colleague leaves a written code review. As part of the review, they state that \"your code demonstrates strong cohesion and loose coupling\". Is that good or bad?\n",
    "1. Good\n",
    "1. Bad\n",
    "1. Not enough information"
   ]
  },
  {
   "cell_type": "markdown",
   "metadata": {},
   "source": [
    "**Answer:** Good"
   ]
  },
  {
   "cell_type": "markdown",
   "metadata": {},
   "source": [
    "### QUIZ 5 - Unit Testing\n",
    "Which of the following describes unit testing best?\n",
    "1. Testing the software after changing the requirements\n",
    "1. Testing an application with many concurrent users\n",
    "1. Hypothesis testing (e.g. F-test, chi-squared test, t-test, ANOVA)\n",
    "1. Testing the application as a whole\n",
    "1. Testing a single function, method, or class\n",
    "1. Cross-validation\n",
    "1. Training / testing data split\n",
    "\n",
    "\n",
    "**Answer:** 5. Testing a single fuction, method or class"
   ]
  },
  {
   "cell_type": "markdown",
   "metadata": {},
   "source": [
    "### QUIZ 6 - Vectorization\n",
    "Suppose you have a matrix A and a vector x, defined below. To find the product Ax, you can use the multiply() function. You, however, want to use its vectorized form. First, you convert A and x to numpy arrays. Which of the following will give you the same result as the multiply() function?"
   ]
  },
  {
   "cell_type": "code",
   "execution_count": null,
   "metadata": {},
   "outputs": [],
   "source": []
  },
  {
   "cell_type": "markdown",
   "metadata": {},
   "source": [
    "### QUIZ 7 - Reproducibility\n",
    "Which of the following options is a fully reproducible study? Note that there is a distinction between replication and reproducibility.\n",
    "1. There's no data and code available for the study, but it's simple enough to repeat\n",
    "1. The code is available; another researcher can try it on a different dataset and obtain a different result\n",
    "1. The data and code are available; when the code is run on the data, it gives similar results to the original study\n",
    "1. The author re-runs the original code on the original data and gets the same results\n",
    "1. The data is available, the code is not; another researcher can try their own code on it\n",
    "1. The data and code are available; when the code is run on the data, it gives different results to the original study\n",
    "1. The code is available; another researcher can try it on a different dataset\n",
    "\n",
    "\n",
    "**Answer**: 3. The data and code are available; when the code is run on the data, it gives similar results to the original study"
   ]
  },
  {
   "cell_type": "markdown",
   "metadata": {},
   "source": [
    "### QUIZ 8 - Evidence-Based Research\n",
    "Evidence-based research gives more freedom to the researcher to choose variables, algorithms, and parameters.\n",
    "1. True\n",
    "2. False\n",
    "\n",
    "\n",
    "**Answer:** False"
   ]
  },
  {
   "cell_type": "code",
   "execution_count": null,
   "metadata": {},
   "outputs": [],
   "source": []
  }
 ],
 "metadata": {
  "kernelspec": {
   "display_name": "Python 3",
   "language": "python",
   "name": "python3"
  },
  "language_info": {
   "codemirror_mode": {
    "name": "ipython",
    "version": 3
   },
   "file_extension": ".py",
   "mimetype": "text/x-python",
   "name": "python",
   "nbconvert_exporter": "python",
   "pygments_lexer": "ipython3",
   "version": "3.6.5"
  }
 },
 "nbformat": 4,
 "nbformat_minor": 2
}
